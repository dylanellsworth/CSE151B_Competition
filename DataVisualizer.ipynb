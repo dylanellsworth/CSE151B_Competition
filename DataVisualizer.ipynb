{
 "cells": [
  {
   "cell_type": "markdown",
   "metadata": {},
   "source": [
    "# DATA VISUALIZER"
   ]
  },
  {
   "cell_type": "code",
   "execution_count": null,
   "metadata": {},
   "outputs": [],
   "source": [
    "import os, os.path \n",
    "import numpy \n",
    "import pickle\n",
    "from glob import glob\n",
    "import numpy as np\n",
    "import matplotlib.pyplot as plt"
   ]
  },
  {
   "cell_type": "markdown",
   "metadata": {},
   "source": [
    "## Load and Plot Dataset"
   ]
  },
  {
   "cell_type": "code",
   "execution_count": null,
   "metadata": {},
   "outputs": [],
   "source": [
    "from glob import glob\n",
    "import pickle\n",
    "import numpy as np\n",
    "\n",
    "ROOT_PATH = \"./\"\n",
    "\n",
    "cities = [\"austin\", \"miami\", \"pittsburgh\", \"dearborn\", \"washington-dc\", \"palo-alto\"]\n",
    "splits = [\"train\", \"test\"]\n",
    "\n",
    "def get_city_trajectories(city=\"palo-alto\", split=\"train\", normalized=False):\n",
    "\n",
    "    \n",
    "    outputs = None\n",
    "    \n",
    "    if split==\"train\":\n",
    "        f_in = ROOT_PATH + split + \"/\" + city + \"_inputs\"\n",
    "        inputs = pickle.load(open(f_in, \"rb\"))\n",
    "        inputs = np.asarray(inputs)\n",
    "        \n",
    "        f_out = ROOT_PATH + split + \"/\" + city + \"_outputs\"\n",
    "        outputs = pickle.load(open(f_out, \"rb\"))\n",
    "        outputs = np.asarray(outputs)\n",
    "        \n",
    "    elif split == 'val':\n",
    "        f_in = ROOT_PATH + 'train' + \"/\" + city + \"_inputs\"\n",
    "        inputs = pickle.load(open(f_in, \"rb\"))\n",
    "        n = len(inputs)\n",
    "        inputs = np.asarray(inputs)\n",
    "        \n",
    "        f_out = ROOT_PATH + 'train' + \"/\" + city + \"_outputs\"\n",
    "        outputs = pickle.load(open(f_out, \"rb\"))\n",
    "        outputs = np.asarray(outputs)\n",
    "    \n",
    "    else:\n",
    "        f_in = ROOT_PATH + split + \"/\" + city + \"_inputs\"\n",
    "        inputs = pickle.load(open(f_in, \"rb\"))\n",
    "        n = len(inputs)\n",
    "        inputs = np.asarray(inputs)\n",
    "\n",
    "    return inputs, outputs\n",
    "\n",
    "# fig, axs = plt.subplots(len(cities))\n",
    "\n",
    "def display_city_data(city):\n",
    "    # Get training and test input/output data\n",
    "    city_in_train, city_out_train = get_city_trajectories(city, 'train')\n",
    "    city_in_test, _ = get_city_trajectories(city, 'test')\n",
    "    city_in_x = []\n",
    "    city_in_y = []\n",
    "    # Add train input data\n",
    "    for i in range(len(city_in_train)):\n",
    "        for j in range(len(city_in_train[i])):\n",
    "            city_in_x.append(city_in_train[i][j][0])\n",
    "            city_in_y.append(city_in_train[i][j][1])\n",
    "    # Add test input data\n",
    "    for i in range(len(city_in_test)):\n",
    "        for j in range(len(city_in_test[i])):\n",
    "            city_in_x.append(city_in_test[i][j][0])\n",
    "            city_in_y.append(city_in_test[i][j][1])\n",
    "    # Display input data heatmap\n",
    "    plt.clf()\n",
    "    print(city + \" input\")\n",
    "    print(\"shape:\", city_in.shape)\n",
    "    plt.hist2d(city_in_x, city_in_y, bins=[np.arange(-14000,14000,300),np.arange(-8000,8000,300)], vmin=0, vmax=35000)\n",
    "    plt.show()\n",
    "\n",
    "    city_out_x = []\n",
    "    city_out_y = []\n",
    "    # Add training output\n",
    "    for i in range(len(city_out_train)):\n",
    "        for j in range(len(city_out_train[i])):\n",
    "            city_out_x.append(city_out_train[i][j][0])\n",
    "            city_out_y.append(city_out_train[i][j][1])\n",
    "    # Display output heatmap\n",
    "    plt.clf()\n",
    "    print(city + \" output\")\n",
    "    print(\"shape:\", city_out_train.shape)\n",
    "    plt.hist2d(city_out_x, city_out_y, bins=[np.arange(-14000,14000,300),np.arange(-8000,8000,300)], vmin=0, vmax=35000)\n",
    "    plt.show()\n",
    "\n",
    "    # Plot samples input/output data points for this city\n",
    "    sample_size = 3\n",
    "    for sample_num in range(sample_size):\n",
    "        print(city, \"sample\", sample_num)\n",
    "        for i in range(len(city_in_train[0])):\n",
    "            plt.scatter(city_in_x[len(city_in_train[0])*sample_num +i], city_in_y[len(city_in_train[0])*sample_num + i], color='blue')\n",
    "        for i in range(len(city_out_train[0])):\n",
    "            plt.scatter(city_out_x[len(city_out_train[0])*sample_num + i], city_out_y[len(city_out_train[0])*sample_num +i], color='red')\n",
    "        plt.show()\n",
    "\n",
    "# Display heatmaps for all cities input/output\n",
    "for city in cities:\n",
    "    display_city_data(city)"
   ]
  }
 ],
 "metadata": {
  "interpreter": {
   "hash": "e2d4884ef49a982a1eb5c43e5ae8a96487ae20917b7a89575cf03e86c2c63cb9"
  },
  "kernelspec": {
   "display_name": "Python 3.10.4 64-bit (windows store)",
   "language": "python",
   "name": "python3"
  },
  "language_info": {
   "codemirror_mode": {
    "name": "ipython",
    "version": 3
   },
   "file_extension": ".py",
   "mimetype": "text/x-python",
   "name": "python",
   "nbconvert_exporter": "python",
   "pygments_lexer": "ipython3",
   "version": "3.10.4"
  },
  "orig_nbformat": 4
 },
 "nbformat": 4,
 "nbformat_minor": 2
}
