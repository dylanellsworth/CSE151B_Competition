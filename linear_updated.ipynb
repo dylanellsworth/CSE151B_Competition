{
 "cells": [
  {
   "cell_type": "markdown",
   "metadata": {},
   "source": [
    "---\n",
    "# CSE 151B Project - Linear Model\n",
    "---"
   ]
  },
  {
   "cell_type": "markdown",
   "id": "718c38cf",
   "metadata": {},
   "source": [
    "## Install the package dependencies before running this notebook"
   ]
  },
  {
   "cell_type": "code",
   "execution_count": null,
   "id": "16ac7530",
   "metadata": {},
   "outputs": [],
   "source": [
    "import torch\n",
    "from torch.utils.data import Dataset, DataLoader\n",
    "import os, os.path \n",
    "import time\n",
    "import math\n",
    "import string\n",
    "import numpy \n",
    "import pickle\n",
    "from glob import glob"
   ]
  },
  {
   "cell_type": "markdown",
   "id": "35242f5f",
   "metadata": {},
   "source": [
    "## Use GPU if Available"
   ]
  },
  {
   "cell_type": "code",
   "execution_count": null,
   "id": "3b1eebb2",
   "metadata": {},
   "outputs": [],
   "source": [
    "device = None\n",
    "if torch.cuda.is_available():\n",
    "    device = torch.device('cuda')\n",
    "\n",
    "device"
   ]
  },
  {
   "cell_type": "markdown",
   "id": "0b472cf2",
   "metadata": {},
   "source": [
    "## Create a Torch.Dataset class for the training dataset"
   ]
  },
  {
   "cell_type": "code",
   "execution_count": 49,
   "id": "091abbb7",
   "metadata": {},
   "outputs": [],
   "source": [
    "from glob import glob\n",
    "import pickle\n",
    "import numpy as np\n",
    "\n",
    "\"\"\"\n",
    "    number of trajectories in each city\n",
    "    # austin --  train: 43041 test: 6325 \n",
    "    # miami -- train: 55029 test:7971\n",
    "    # pittsburgh -- train: 43544 test: 6361\n",
    "    # dearborn -- train: 24465 test: 3671\n",
    "    # washington-dc -- train: 25744 test: 3829\n",
    "    # palo-alto -- train:  11993 test:1686\n",
    "\n",
    "    trajectories sampled at 10HZ rate, input 5 seconds, output 6 seconds\n",
    "    \n",
    "\"\"\"\n",
    "\n",
    "ROOT_PATH = \"./\"\n",
    "\n",
    "cities = [\"austin\", \"miami\", \"pittsburgh\", \"dearborn\", \"washington-dc\", \"palo-alto\"]\n",
    "splits = [\"train\", \"test\"]\n",
    "\n",
    "city_dict = {}\n",
    "for i in range(len(cities)):\n",
    "    city_dict[str(cities[i])] = i\n",
    "\n",
    "# print(city_dict)\n",
    "\n",
    "\n",
    "def get_city_trajectories(city=\"palo-alto\", split=\"train\", normalized=False):\n",
    "\n",
    "    \n",
    "    outputs = None\n",
    "    \n",
    "    if split==\"train\":\n",
    "        f_in = ROOT_PATH + split + \"/\" + city + \"_inputs\"\n",
    "        inputs = pickle.load(open(f_in, \"rb\"))\n",
    "        n = len(inputs)\n",
    "        inputs = np.asarray(inputs)[:int(n * 0.8)]\n",
    "        \n",
    "        f_out = ROOT_PATH + split + \"/\" + city + \"_outputs\"\n",
    "        outputs = pickle.load(open(f_out, \"rb\"))\n",
    "        outputs = np.asarray(outputs)[:int(n * 0.8)]\n",
    "        \n",
    "    elif split == 'val':\n",
    "        f_in = ROOT_PATH + 'train' + \"/\" + city + \"_inputs\"\n",
    "        inputs = pickle.load(open(f_in, \"rb\"))\n",
    "        n = len(inputs)\n",
    "        inputs = np.asarray(inputs)[int(n * 0.8):]\n",
    "        \n",
    "        f_out = ROOT_PATH + 'train' + \"/\" + city + \"_outputs\"\n",
    "        outputs = pickle.load(open(f_out, \"rb\"))\n",
    "        outputs = np.asarray(outputs)[int(n * 0.8):]\n",
    "    \n",
    "    else:\n",
    "        f_in = ROOT_PATH + split + \"/\" + city + \"_inputs\"\n",
    "        inputs = pickle.load(open(f_in, \"rb\"))\n",
    "        n = len(inputs)\n",
    "        inputs = np.asarray(inputs)\n",
    "\n",
    "    inputs = enhance_features(inputs, city, one_hot_enabled=False)\n",
    "\n",
    "    return inputs, outputs\n",
    "\n",
    "def enhance_features(input_data, city_name, one_hot_enabled=False):\n",
    "    data_len = len(input_data)\n",
    "    if (one_hot_enabled):\n",
    "        new_input = np.zeros([data_len,50,6+len(cities)])\n",
    "    else:\n",
    "        new_input = np.zeros([data_len,50,6])\n",
    "    #print(new_input.shape)\n",
    "    for i in range(0, data_len):\n",
    "        # Calculate velocity\n",
    "        for j in range(50):\n",
    "            new_input[i][j][0] = input_data[i][j][0]\n",
    "            new_input[i][j][1] = input_data[i][j][1]\n",
    "            if j>0:\n",
    "                new_input[i][j][2] = new_input[i][j][0] - new_input[i][j-1][0] \n",
    "                new_input[i][j][3] = new_input[i][j][1] - new_input[i][j-1][1] \n",
    "        # Calculate acceleration\n",
    "        for k in range(50):\n",
    "            if k>0:\n",
    "                new_input[i][k][4] = new_input[i][k][2] - new_input[i][k-1][2] * 10000\n",
    "                new_input[i][k][5] = new_input[i][k][3] - new_input[i][k-1][3] * 10000\n",
    "                # set city one-hot encoding\n",
    "                if (one_hot_enabled):\n",
    "                    new_input[i][k][6 + city_dict[city_name]] = 1\n",
    "    # print(new_input[1][1])\n",
    "    # print(new_input.shape)\n",
    "    return new_input\n",
    "\n",
    "class ArgoverseDataset(Dataset):\n",
    "    \"\"\"Dataset class for Argoverse\"\"\"\n",
    "    def __init__(self, city: str, split:str, transform=None):\n",
    "        super(ArgoverseDataset, self).__init__()\n",
    "        self.transform = transform\n",
    "\n",
    "        self.inputs = []\n",
    "        self.outputs = []\n",
    "\n",
    "        # Include ALL cities in the Dataset\n",
    "        if (city == 'all'):\n",
    "            for city_name in cities:\n",
    "                city_inputs, city_outputs = get_city_trajectories(city=city_name, split=split, normalized=False)\n",
    "                for i in range(len(city_inputs)):\n",
    "                    self.inputs.append(city_inputs[i])\n",
    "                    self.outputs.append(city_outputs[i])\n",
    "        \n",
    "        # Only include the city specified\n",
    "        else:\n",
    "             self.inputs, self.outputs = get_city_trajectories(city, split=split, normalized=False)\n",
    "\n",
    "    def __len__(self):\n",
    "        return len(self.inputs)\n",
    "\n",
    "    def __getitem__(self, idx):\n",
    "\n",
    "        data = (self.inputs[idx], self.outputs[idx])\n",
    "            \n",
    "        if self.transform:\n",
    "            data = self.transform(data)\n",
    "\n",
    "        return data\n",
    "\n",
    "# intialize training dataset\n",
    "city = 'all' \n",
    "split = 'train'\n",
    "train_dataset  = ArgoverseDataset(city = city, split = split)"
   ]
  },
  {
   "cell_type": "markdown",
   "id": "058453cc",
   "metadata": {},
   "source": [
    "## Create a DataLoader class for training"
   ]
  },
  {
   "cell_type": "code",
   "execution_count": 50,
   "id": "5c14f0e7",
   "metadata": {},
   "outputs": [],
   "source": [
    "batch_sz = 100  # batch size \n",
    "train_loader = DataLoader(train_dataset,batch_size=batch_sz)"
   ]
  },
  {
   "cell_type": "markdown",
   "id": "ef99b32b",
   "metadata": {},
   "source": [
    "## Define the Linear Model"
   ]
  },
  {
   "cell_type": "code",
   "execution_count": 51,
   "id": "ee5b7ae0",
   "metadata": {},
   "outputs": [],
   "source": [
    "from torch import nn, optim\n",
    "\n",
    "class Pred(nn.Module):\n",
    "\n",
    "    def __init__(self):\n",
    "        super().__init__()\n",
    "        \n",
    "        self.encoder = nn.Sequential(\n",
    "            nn.Linear(300, 512),\n",
    "            nn.ReLU(),\n",
    "            nn.Linear(512, 1024),\n",
    "            nn.ReLU(),\n",
    "            nn.Linear(1024, 512)\n",
    "        )\n",
    "        \n",
    "        self.decoder = nn.Sequential(\n",
    "            nn.Linear(512, 256),\n",
    "            nn.ReLU(),\n",
    "            nn.Linear(256, 128),\n",
    "            nn.ReLU(),\n",
    "            nn.Linear(128, 120)\n",
    "        )\n",
    "        \n",
    "    def forward(self, x):\n",
    "        flattened_len = len(x[0]) * len(x[1])\n",
    "        x = x.reshape(-1, flattened_len).float()\n",
    "        x = self.encoder(x)\n",
    "        x = self.decoder(x)\n",
    "        x = x.reshape(-1, 60, 2)\n",
    "        return x"
   ]
  },
  {
   "cell_type": "code",
   "execution_count": 58,
   "id": "adbc1d90",
   "metadata": {},
   "outputs": [],
   "source": [
    "pred = Pred().to(device)\n",
    "opt = optim.Adam(pred.parameters(), lr=2e-6)"
   ]
  },
  {
   "cell_type": "markdown",
   "id": "83e09197",
   "metadata": {},
   "source": [
    "## Track the Time for Each Epoch"
   ]
  },
  {
   "cell_type": "code",
   "execution_count": 39,
   "id": "ce223bbe",
   "metadata": {},
   "outputs": [],
   "source": [
    "def timeSince(since):\n",
    "    now = time.time()\n",
    "    s = now - since\n",
    "    m = math.floor(s / 60)\n",
    "    s -= m * 60\n",
    "    s = int(s)\n",
    "    h = math.floor(m / 60)\n",
    "    m -= h * 60\n",
    "    return '%sh %sm %ss' % (str(h), str(m).rjust(2, '0'), str(s).rjust(2, '0'))"
   ]
  },
  {
   "cell_type": "markdown",
   "id": "d8d45989",
   "metadata": {},
   "source": [
    "## Train the Model"
   ]
  },
  {
   "cell_type": "code",
   "execution_count": 77,
   "id": "e4725237",
   "metadata": {},
   "outputs": [
    {
     "name": "stdout",
     "output_type": "stream",
     "text": [
      "======================================================\n",
      "|     TIME     | PROGRESS | EPOCH |      LOSS        |\n",
      "======================================================\n",
      "   0h 00m 07s  |   000%   |  000  |  4904.0364  \n",
      "   0h 00m 14s  |   000%   |  001  |  4566.8597  \n",
      "   0h 00m 22s  |   000%   |  002  |  4839.2798  \n",
      "   0h 00m 29s  |   000%   |  003  |  4516.7986  \n",
      "   0h 00m 36s  |   000%   |  004  |  4789.6946  \n",
      "   0h 00m 44s  |   001%   |  005  |  4677.9184  \n",
      "   0h 00m 51s  |   001%   |  006  |  4647.6152  \n",
      "   0h 00m 58s  |   001%   |  007  |  4542.2099  \n",
      "   0h 01m 06s  |   001%   |  008  |  4817.4443  \n",
      "   0h 01m 13s  |   001%   |  009  |  4578.8292  \n",
      "   0h 01m 20s  |   002%   |  010  |  4650.3423  \n",
      "   0h 01m 28s  |   002%   |  011  |  4699.6150  \n",
      "   0h 01m 35s  |   002%   |  012  |  4617.3186  \n",
      "   0h 01m 42s  |   002%   |  013  |  4659.2459  \n",
      "   0h 01m 49s  |   002%   |  014  |  4622.4428  \n",
      "   0h 01m 57s  |   003%   |  015  |  4691.3560  \n",
      "   0h 02m 04s  |   003%   |  016  |  4455.0397  \n",
      "   0h 02m 11s  |   003%   |  017  |  4760.8718  \n",
      "   0h 02m 19s  |   003%   |  018  |  4549.9625  \n",
      "   0h 02m 26s  |   003%   |  019  |  4619.8053  \n",
      "   0h 02m 33s  |   004%   |  020  |  4579.2649  \n",
      "   0h 02m 41s  |   004%   |  021  |  4597.1430  \n",
      "   0h 02m 48s  |   004%   |  022  |  4657.2642  \n",
      "   0h 02m 55s  |   004%   |  023  |  4432.1530  \n",
      "   0h 03m 03s  |   004%   |  024  |  4758.4763  \n",
      "   0h 03m 10s  |   005%   |  025  |  4481.1744  \n",
      "   0h 03m 17s  |   005%   |  026  |  4639.4221  \n",
      "   0h 03m 25s  |   005%   |  027  |  4545.0554  \n",
      "   0h 03m 32s  |   005%   |  028  |  4542.0770  \n",
      "   0h 03m 39s  |   005%   |  029  |  4539.8754  \n",
      "   0h 03m 46s  |   006%   |  030  |  4567.5318  \n",
      "   0h 03m 54s  |   006%   |  031  |  4593.2305  \n",
      "   0h 04m 01s  |   006%   |  032  |  4426.0099  \n",
      "   0h 04m 08s  |   006%   |  033  |  4678.9735  \n",
      "   0h 04m 16s  |   006%   |  034  |  4343.1147  \n",
      "   0h 04m 23s  |   007%   |  035  |  4673.7828  \n",
      "   0h 04m 30s  |   007%   |  036  |  4466.3573  \n",
      "   0h 04m 38s  |   007%   |  037  |  4557.4988  \n",
      "   0h 04m 45s  |   007%   |  038  |  4374.4699  \n",
      "   0h 04m 52s  |   007%   |  039  |  4671.1089  \n",
      "   0h 05m 00s  |   008%   |  040  |  4304.7681  \n"
     ]
    },
    {
     "ename": "KeyboardInterrupt",
     "evalue": "",
     "output_type": "error",
     "traceback": [
      "\u001b[1;31m---------------------------------------------------------------------------\u001b[0m",
      "\u001b[1;31mKeyboardInterrupt\u001b[0m                         Traceback (most recent call last)",
      "\u001b[1;32md:\\CSE151B\\CSE151B_Competition\\linear_updated.ipynb Cell 16'\u001b[0m in \u001b[0;36m<cell line: 10>\u001b[1;34m()\u001b[0m\n\u001b[0;32m     <a href='vscode-notebook-cell:/d%3A/CSE151B/CSE151B_Competition/linear_updated.ipynb#ch0000015?line=19'>20</a>\u001b[0m     opt\u001b[39m.\u001b[39mzero_grad()\n\u001b[0;32m     <a href='vscode-notebook-cell:/d%3A/CSE151B/CSE151B_Competition/linear_updated.ipynb#ch0000015?line=20'>21</a>\u001b[0m     loss\u001b[39m.\u001b[39mbackward()\n\u001b[1;32m---> <a href='vscode-notebook-cell:/d%3A/CSE151B/CSE151B_Competition/linear_updated.ipynb#ch0000015?line=21'>22</a>\u001b[0m     opt\u001b[39m.\u001b[39;49mstep()\n\u001b[0;32m     <a href='vscode-notebook-cell:/d%3A/CSE151B/CSE151B_Competition/linear_updated.ipynb#ch0000015?line=23'>24</a>\u001b[0m     total_loss \u001b[39m+\u001b[39m\u001b[39m=\u001b[39m loss\u001b[39m.\u001b[39mitem()\n\u001b[0;32m     <a href='vscode-notebook-cell:/d%3A/CSE151B/CSE151B_Competition/linear_updated.ipynb#ch0000015?line=25'>26</a>\u001b[0m epoch_loss \u001b[39m=\u001b[39m total_loss \u001b[39m/\u001b[39m \u001b[39mlen\u001b[39m(train_dataset)\n",
      "File \u001b[1;32m~\\AppData\\Local\\Packages\\PythonSoftwareFoundation.Python.3.10_qbz5n2kfra8p0\\LocalCache\\local-packages\\Python310\\site-packages\\torch\\optim\\optimizer.py:88\u001b[0m, in \u001b[0;36mOptimizer._hook_for_profile.<locals>.profile_hook_step.<locals>.wrapper\u001b[1;34m(*args, **kwargs)\u001b[0m\n\u001b[0;32m     <a href='file:///c%3A/Users/Dylan%20Ellsworth/AppData/Local/Packages/PythonSoftwareFoundation.Python.3.10_qbz5n2kfra8p0/LocalCache/local-packages/Python310/site-packages/torch/optim/optimizer.py?line=85'>86</a>\u001b[0m profile_name \u001b[39m=\u001b[39m \u001b[39m\"\u001b[39m\u001b[39mOptimizer.step#\u001b[39m\u001b[39m{}\u001b[39;00m\u001b[39m.step\u001b[39m\u001b[39m\"\u001b[39m\u001b[39m.\u001b[39mformat(obj\u001b[39m.\u001b[39m\u001b[39m__class__\u001b[39m\u001b[39m.\u001b[39m\u001b[39m__name__\u001b[39m)\n\u001b[0;32m     <a href='file:///c%3A/Users/Dylan%20Ellsworth/AppData/Local/Packages/PythonSoftwareFoundation.Python.3.10_qbz5n2kfra8p0/LocalCache/local-packages/Python310/site-packages/torch/optim/optimizer.py?line=86'>87</a>\u001b[0m \u001b[39mwith\u001b[39;00m torch\u001b[39m.\u001b[39mautograd\u001b[39m.\u001b[39mprofiler\u001b[39m.\u001b[39mrecord_function(profile_name):\n\u001b[1;32m---> <a href='file:///c%3A/Users/Dylan%20Ellsworth/AppData/Local/Packages/PythonSoftwareFoundation.Python.3.10_qbz5n2kfra8p0/LocalCache/local-packages/Python310/site-packages/torch/optim/optimizer.py?line=87'>88</a>\u001b[0m     \u001b[39mreturn\u001b[39;00m func(\u001b[39m*\u001b[39margs, \u001b[39m*\u001b[39m\u001b[39m*\u001b[39mkwargs)\n",
      "File \u001b[1;32m~\\AppData\\Local\\Packages\\PythonSoftwareFoundation.Python.3.10_qbz5n2kfra8p0\\LocalCache\\local-packages\\Python310\\site-packages\\torch\\autograd\\grad_mode.py:27\u001b[0m, in \u001b[0;36m_DecoratorContextManager.__call__.<locals>.decorate_context\u001b[1;34m(*args, **kwargs)\u001b[0m\n\u001b[0;32m     <a href='file:///c%3A/Users/Dylan%20Ellsworth/AppData/Local/Packages/PythonSoftwareFoundation.Python.3.10_qbz5n2kfra8p0/LocalCache/local-packages/Python310/site-packages/torch/autograd/grad_mode.py?line=23'>24</a>\u001b[0m \u001b[39m@functools\u001b[39m\u001b[39m.\u001b[39mwraps(func)\n\u001b[0;32m     <a href='file:///c%3A/Users/Dylan%20Ellsworth/AppData/Local/Packages/PythonSoftwareFoundation.Python.3.10_qbz5n2kfra8p0/LocalCache/local-packages/Python310/site-packages/torch/autograd/grad_mode.py?line=24'>25</a>\u001b[0m \u001b[39mdef\u001b[39;00m \u001b[39mdecorate_context\u001b[39m(\u001b[39m*\u001b[39margs, \u001b[39m*\u001b[39m\u001b[39m*\u001b[39mkwargs):\n\u001b[0;32m     <a href='file:///c%3A/Users/Dylan%20Ellsworth/AppData/Local/Packages/PythonSoftwareFoundation.Python.3.10_qbz5n2kfra8p0/LocalCache/local-packages/Python310/site-packages/torch/autograd/grad_mode.py?line=25'>26</a>\u001b[0m     \u001b[39mwith\u001b[39;00m \u001b[39mself\u001b[39m\u001b[39m.\u001b[39mclone():\n\u001b[1;32m---> <a href='file:///c%3A/Users/Dylan%20Ellsworth/AppData/Local/Packages/PythonSoftwareFoundation.Python.3.10_qbz5n2kfra8p0/LocalCache/local-packages/Python310/site-packages/torch/autograd/grad_mode.py?line=26'>27</a>\u001b[0m         \u001b[39mreturn\u001b[39;00m func(\u001b[39m*\u001b[39margs, \u001b[39m*\u001b[39m\u001b[39m*\u001b[39mkwargs)\n",
      "File \u001b[1;32m~\\AppData\\Local\\Packages\\PythonSoftwareFoundation.Python.3.10_qbz5n2kfra8p0\\LocalCache\\local-packages\\Python310\\site-packages\\torch\\optim\\adam.py:141\u001b[0m, in \u001b[0;36mAdam.step\u001b[1;34m(self, closure)\u001b[0m\n\u001b[0;32m    <a href='file:///c%3A/Users/Dylan%20Ellsworth/AppData/Local/Packages/PythonSoftwareFoundation.Python.3.10_qbz5n2kfra8p0/LocalCache/local-packages/Python310/site-packages/torch/optim/adam.py?line=137'>138</a>\u001b[0m             \u001b[39m# record the step after step update\u001b[39;00m\n\u001b[0;32m    <a href='file:///c%3A/Users/Dylan%20Ellsworth/AppData/Local/Packages/PythonSoftwareFoundation.Python.3.10_qbz5n2kfra8p0/LocalCache/local-packages/Python310/site-packages/torch/optim/adam.py?line=138'>139</a>\u001b[0m             state_steps\u001b[39m.\u001b[39mappend(state[\u001b[39m'\u001b[39m\u001b[39mstep\u001b[39m\u001b[39m'\u001b[39m])\n\u001b[1;32m--> <a href='file:///c%3A/Users/Dylan%20Ellsworth/AppData/Local/Packages/PythonSoftwareFoundation.Python.3.10_qbz5n2kfra8p0/LocalCache/local-packages/Python310/site-packages/torch/optim/adam.py?line=140'>141</a>\u001b[0m     F\u001b[39m.\u001b[39;49madam(params_with_grad,\n\u001b[0;32m    <a href='file:///c%3A/Users/Dylan%20Ellsworth/AppData/Local/Packages/PythonSoftwareFoundation.Python.3.10_qbz5n2kfra8p0/LocalCache/local-packages/Python310/site-packages/torch/optim/adam.py?line=141'>142</a>\u001b[0m            grads,\n\u001b[0;32m    <a href='file:///c%3A/Users/Dylan%20Ellsworth/AppData/Local/Packages/PythonSoftwareFoundation.Python.3.10_qbz5n2kfra8p0/LocalCache/local-packages/Python310/site-packages/torch/optim/adam.py?line=142'>143</a>\u001b[0m            exp_avgs,\n\u001b[0;32m    <a href='file:///c%3A/Users/Dylan%20Ellsworth/AppData/Local/Packages/PythonSoftwareFoundation.Python.3.10_qbz5n2kfra8p0/LocalCache/local-packages/Python310/site-packages/torch/optim/adam.py?line=143'>144</a>\u001b[0m            exp_avg_sqs,\n\u001b[0;32m    <a href='file:///c%3A/Users/Dylan%20Ellsworth/AppData/Local/Packages/PythonSoftwareFoundation.Python.3.10_qbz5n2kfra8p0/LocalCache/local-packages/Python310/site-packages/torch/optim/adam.py?line=144'>145</a>\u001b[0m            max_exp_avg_sqs,\n\u001b[0;32m    <a href='file:///c%3A/Users/Dylan%20Ellsworth/AppData/Local/Packages/PythonSoftwareFoundation.Python.3.10_qbz5n2kfra8p0/LocalCache/local-packages/Python310/site-packages/torch/optim/adam.py?line=145'>146</a>\u001b[0m            state_steps,\n\u001b[0;32m    <a href='file:///c%3A/Users/Dylan%20Ellsworth/AppData/Local/Packages/PythonSoftwareFoundation.Python.3.10_qbz5n2kfra8p0/LocalCache/local-packages/Python310/site-packages/torch/optim/adam.py?line=146'>147</a>\u001b[0m            amsgrad\u001b[39m=\u001b[39;49mgroup[\u001b[39m'\u001b[39;49m\u001b[39mamsgrad\u001b[39;49m\u001b[39m'\u001b[39;49m],\n\u001b[0;32m    <a href='file:///c%3A/Users/Dylan%20Ellsworth/AppData/Local/Packages/PythonSoftwareFoundation.Python.3.10_qbz5n2kfra8p0/LocalCache/local-packages/Python310/site-packages/torch/optim/adam.py?line=147'>148</a>\u001b[0m            beta1\u001b[39m=\u001b[39;49mbeta1,\n\u001b[0;32m    <a href='file:///c%3A/Users/Dylan%20Ellsworth/AppData/Local/Packages/PythonSoftwareFoundation.Python.3.10_qbz5n2kfra8p0/LocalCache/local-packages/Python310/site-packages/torch/optim/adam.py?line=148'>149</a>\u001b[0m            beta2\u001b[39m=\u001b[39;49mbeta2,\n\u001b[0;32m    <a href='file:///c%3A/Users/Dylan%20Ellsworth/AppData/Local/Packages/PythonSoftwareFoundation.Python.3.10_qbz5n2kfra8p0/LocalCache/local-packages/Python310/site-packages/torch/optim/adam.py?line=149'>150</a>\u001b[0m            lr\u001b[39m=\u001b[39;49mgroup[\u001b[39m'\u001b[39;49m\u001b[39mlr\u001b[39;49m\u001b[39m'\u001b[39;49m],\n\u001b[0;32m    <a href='file:///c%3A/Users/Dylan%20Ellsworth/AppData/Local/Packages/PythonSoftwareFoundation.Python.3.10_qbz5n2kfra8p0/LocalCache/local-packages/Python310/site-packages/torch/optim/adam.py?line=150'>151</a>\u001b[0m            weight_decay\u001b[39m=\u001b[39;49mgroup[\u001b[39m'\u001b[39;49m\u001b[39mweight_decay\u001b[39;49m\u001b[39m'\u001b[39;49m],\n\u001b[0;32m    <a href='file:///c%3A/Users/Dylan%20Ellsworth/AppData/Local/Packages/PythonSoftwareFoundation.Python.3.10_qbz5n2kfra8p0/LocalCache/local-packages/Python310/site-packages/torch/optim/adam.py?line=151'>152</a>\u001b[0m            eps\u001b[39m=\u001b[39;49mgroup[\u001b[39m'\u001b[39;49m\u001b[39meps\u001b[39;49m\u001b[39m'\u001b[39;49m],\n\u001b[0;32m    <a href='file:///c%3A/Users/Dylan%20Ellsworth/AppData/Local/Packages/PythonSoftwareFoundation.Python.3.10_qbz5n2kfra8p0/LocalCache/local-packages/Python310/site-packages/torch/optim/adam.py?line=152'>153</a>\u001b[0m            maximize\u001b[39m=\u001b[39;49mgroup[\u001b[39m'\u001b[39;49m\u001b[39mmaximize\u001b[39;49m\u001b[39m'\u001b[39;49m])\n\u001b[0;32m    <a href='file:///c%3A/Users/Dylan%20Ellsworth/AppData/Local/Packages/PythonSoftwareFoundation.Python.3.10_qbz5n2kfra8p0/LocalCache/local-packages/Python310/site-packages/torch/optim/adam.py?line=153'>154</a>\u001b[0m \u001b[39mreturn\u001b[39;00m loss\n",
      "File \u001b[1;32m~\\AppData\\Local\\Packages\\PythonSoftwareFoundation.Python.3.10_qbz5n2kfra8p0\\LocalCache\\local-packages\\Python310\\site-packages\\torch\\optim\\_functional.py:97\u001b[0m, in \u001b[0;36madam\u001b[1;34m(params, grads, exp_avgs, exp_avg_sqs, max_exp_avg_sqs, state_steps, amsgrad, beta1, beta2, lr, weight_decay, eps, maximize)\u001b[0m\n\u001b[0;32m     <a href='file:///c%3A/Users/Dylan%20Ellsworth/AppData/Local/Packages/PythonSoftwareFoundation.Python.3.10_qbz5n2kfra8p0/LocalCache/local-packages/Python310/site-packages/torch/optim/_functional.py?line=93'>94</a>\u001b[0m     grad \u001b[39m=\u001b[39m grad\u001b[39m.\u001b[39madd(param, alpha\u001b[39m=\u001b[39mweight_decay)\n\u001b[0;32m     <a href='file:///c%3A/Users/Dylan%20Ellsworth/AppData/Local/Packages/PythonSoftwareFoundation.Python.3.10_qbz5n2kfra8p0/LocalCache/local-packages/Python310/site-packages/torch/optim/_functional.py?line=95'>96</a>\u001b[0m \u001b[39m# Decay the first and second moment running average coefficient\u001b[39;00m\n\u001b[1;32m---> <a href='file:///c%3A/Users/Dylan%20Ellsworth/AppData/Local/Packages/PythonSoftwareFoundation.Python.3.10_qbz5n2kfra8p0/LocalCache/local-packages/Python310/site-packages/torch/optim/_functional.py?line=96'>97</a>\u001b[0m exp_avg\u001b[39m.\u001b[39;49mmul_(beta1)\u001b[39m.\u001b[39madd_(grad, alpha\u001b[39m=\u001b[39m\u001b[39m1\u001b[39m \u001b[39m-\u001b[39m beta1)\n\u001b[0;32m     <a href='file:///c%3A/Users/Dylan%20Ellsworth/AppData/Local/Packages/PythonSoftwareFoundation.Python.3.10_qbz5n2kfra8p0/LocalCache/local-packages/Python310/site-packages/torch/optim/_functional.py?line=97'>98</a>\u001b[0m exp_avg_sq\u001b[39m.\u001b[39mmul_(beta2)\u001b[39m.\u001b[39maddcmul_(grad, grad\u001b[39m.\u001b[39mconj(), value\u001b[39m=\u001b[39m\u001b[39m1\u001b[39m \u001b[39m-\u001b[39m beta2)\n\u001b[0;32m     <a href='file:///c%3A/Users/Dylan%20Ellsworth/AppData/Local/Packages/PythonSoftwareFoundation.Python.3.10_qbz5n2kfra8p0/LocalCache/local-packages/Python310/site-packages/torch/optim/_functional.py?line=98'>99</a>\u001b[0m \u001b[39mif\u001b[39;00m amsgrad:\n\u001b[0;32m    <a href='file:///c%3A/Users/Dylan%20Ellsworth/AppData/Local/Packages/PythonSoftwareFoundation.Python.3.10_qbz5n2kfra8p0/LocalCache/local-packages/Python310/site-packages/torch/optim/_functional.py?line=99'>100</a>\u001b[0m     \u001b[39m# Maintains the maximum of all 2nd moment running avg. till now\u001b[39;00m\n",
      "\u001b[1;31mKeyboardInterrupt\u001b[0m: "
     ]
    }
   ],
   "source": [
    "num_epochs = 500\n",
    "all_losses = []\n",
    "\n",
    "start = time.time()\n",
    "\n",
    "print('======================================================')\n",
    "print('|     TIME     | PROGRESS | EPOCH |      LOSS        |')\n",
    "print('======================================================')\n",
    "\n",
    "for epoch in range(num_epochs):\n",
    "    \n",
    "    total_loss = 0\n",
    "    for i_batch, sample_batch in enumerate(train_loader):\n",
    "        inp, out = sample_batch\n",
    "        inp = inp.to(device)\n",
    "        out = out.to(device)\n",
    "        preds = pred(inp)\n",
    "        loss = ((preds - out) ** 2).sum()\n",
    "        \n",
    "        opt.zero_grad()\n",
    "        loss.backward()\n",
    "        opt.step()\n",
    "        \n",
    "        total_loss += loss.item()\n",
    "\n",
    "    epoch_loss = total_loss / len(train_dataset)\n",
    "    train_progress = int(epoch / num_epochs * 100)\n",
    "        \n",
    "    # print('epoch {} loss: {}'.format(epoch, total_loss / len(train_dataset)))\n",
    "    print('   %s  |   %s%%   |  %s  |  %.4f  ' % (timeSince(start), str(train_progress).rjust(3, '0'), str(epoch).rjust(3,'0'), epoch_loss))\n",
    "    # print('-----------------------------------------------------')\n",
    "    all_losses.append(epoch_loss)"
   ]
  },
  {
   "cell_type": "markdown",
   "id": "7797a524",
   "metadata": {},
   "source": [
    "## Plot the Loss Over Time"
   ]
  },
  {
   "cell_type": "code",
   "execution_count": null,
   "id": "fa843faf",
   "metadata": {},
   "outputs": [],
   "source": [
    "import matplotlib.pyplot as plt\n",
    "\n",
    "plt.figure()\n",
    "plt.title('Loss Over Time')\n",
    "plt.xlabel('Epoch')\n",
    "plt.ylabel('Loss')\n",
    "plt.plot(all_losses)\n",
    "plt.show()"
   ]
  },
  {
   "cell_type": "markdown",
   "id": "df7d6042",
   "metadata": {},
   "source": [
    "## Determine Validation Loss"
   ]
  },
  {
   "cell_type": "code",
   "execution_count": 78,
   "id": "da57dc99",
   "metadata": {},
   "outputs": [
    {
     "name": "stdout",
     "output_type": "stream",
     "text": [
      "Validation Loss: 4821.86152008222\n"
     ]
    }
   ],
   "source": [
    "val_dataset = ArgoverseDataset(city = 'all', split = 'val')\n",
    "val_loader = DataLoader(val_dataset,batch_size=batch_sz)\n",
    "\n",
    "# pred = torch.load(\"./linear_model.pt\")\n",
    "\n",
    "val_loss = 0\n",
    "for i_batch, sample_batch in enumerate(val_loader):\n",
    "    inp, out = sample_batch\n",
    "    inp = inp.to(device)\n",
    "    out = out.to(device)\n",
    "    preds = pred(inp)\n",
    "    loss = ((preds - out) ** 2).sum()\n",
    "\n",
    "    val_loss += loss.item()\n",
    "print('Validation Loss: {}'.format(val_loss / len(val_dataset)))"
   ]
  },
  {
   "cell_type": "markdown",
   "id": "6f80b5e4",
   "metadata": {},
   "source": [
    "## Visualize Sample Predictions on Validation Dataset "
   ]
  },
  {
   "cell_type": "code",
   "execution_count": 84,
   "id": "c6507c9a",
   "metadata": {},
   "outputs": [
    {
     "data": {
      "image/png": "[encoded data removed]",
      "text/plain": [
       "<Figure size 1080x216 with 3 Axes>"
      ]
     },
     "metadata": {},
     "output_type": "display_data"
    },
    {
     "data": {
      "image/png": "[encoded data removed]",
      "text/plain": [
       "<Figure size 1080x216 with 3 Axes>"
      ]
     },
     "metadata": {},
     "output_type": "display_data"
    },
    {
     "data": {
      "image/png": "[encoded data removed]",
      "text/plain": [
       "<Figure size 1080x216 with 3 Axes>"
      ]
     },
     "metadata": {},
     "output_type": "display_data"
    }
   ],
   "source": [
    "import matplotlib.pyplot as plt\n",
    "import random\n",
    "\n",
    "num_samples = 3\n",
    "\n",
    "val_vis_dataset = ArgoverseDataset(city = 'all', split = 'val')\n",
    "val_vis_loader = DataLoader(val_dataset,batch_size=3)\n",
    "\n",
    "def show_sample_batch(sample_batch):\n",
    "    \"\"\"visualize the trajectory for a batch of samples\"\"\"\n",
    "    inp, out = sample_batch\n",
    "    batch_sz = inp.size(0)\n",
    "    inp = inp.to(device)\n",
    "    agent_sz = inp.size(1)\n",
    "    \n",
    "    fig, axs = plt.subplots(1,batch_sz, figsize=(15, 3), facecolor='w', edgecolor='k')\n",
    "    fig.subplots_adjust(hspace = .5, wspace=.001)\n",
    "    axs = axs.ravel()   \n",
    "    for i in range(batch_sz):\n",
    "        axs[i].xaxis.set_ticks([])\n",
    "        axs[i].yaxis.set_ticks([])\n",
    "        inp = inp.to(device)\n",
    "        pred_traj = pred(inp)\n",
    "        pred_traj = pred_traj.cpu().detach().numpy()\n",
    "        inp = inp.cpu()\n",
    "        \n",
    "        # first two feature dimensions are (x,y) positions\n",
    "        axs[i].scatter(inp[i,:,0], inp[i,:,1], color='black')\n",
    "        axs[i].scatter(out[i,:,0], out[i,:,1], color='teal')\n",
    "        axs[i].scatter(pred_traj[i,:,0], pred_traj[i,:,1], color='red')\n",
    "\n",
    "        \n",
    "for i_batch, sample_batch in enumerate(val_vis_loader):\n",
    "    inp, out = sample_batch\n",
    "    # print(inp.shape, out.shape)\n",
    "    \n",
    "    \"\"\"\n",
    "    TODO:\n",
    "      implement your Deep learning model\n",
    "      implement training routine\n",
    "    \"\"\"\n",
    "    show_sample_batch(sample_batch)\n",
    "\n",
    "    if (i_batch == (num_samples-1)):\n",
    "      break"
   ]
  },
  {
   "cell_type": "markdown",
   "id": "02153e56",
   "metadata": {},
   "source": [
    "## Calculate Test Predictions and Export to CSV"
   ]
  },
  {
   "cell_type": "code",
   "execution_count": 65,
   "id": "14008adf",
   "metadata": {},
   "outputs": [],
   "source": [
    "import pandas as pd\n",
    "\n",
    "def predictions_to_csv():\n",
    "    num_pred_steps = 60\n",
    "    all_preds = np.zeros(shape=(0, num_pred_steps * 2))\n",
    "    city_col = np.array([])\n",
    "\n",
    "    print(\"Calculating Test Trajectory Predictions ...\\n\")\n",
    "\n",
    "    print(\"-----------------------------\")\n",
    "\n",
    "    # Test predictions for ALL cities\n",
    "    for city_name in cities:\n",
    "\n",
    "        print(\"Processing city\", city_name)\n",
    "\n",
    "        # Get Training input values for this city\n",
    "        test_traj_in, _ = get_city_trajectories(city=city_name, split=\"test\")\n",
    "        #print(test_traj_in.shape)\n",
    "\n",
    "        test_pred_arr = []\n",
    "        # Iterate through all test inputs for this city\n",
    "        for x in range(len(test_traj_in)):\n",
    "            # Get the predicted trajectory from the model\n",
    "            traj_in_tensor = torch.tensor(test_traj_in[x], device=device)\n",
    "            traj = pred(traj_in_tensor)[0]\n",
    "            # Add the prediction to the test prediction array\n",
    "            traj_arr = traj.cpu().detach().numpy()\n",
    "            test_pred_arr.append(traj_arr)\n",
    "        test_pred_arr = numpy.array(test_pred_arr)\n",
    "        # print(test_pred_arr.shape)\n",
    "    \n",
    "        # Reshape the predictions to the submission format size (120)\n",
    "        test_pred_arr_reshaped = np.reshape(test_pred_arr, newshape=(test_traj_in.shape[0], num_pred_steps * 2))\n",
    "        print(test_pred_arr_reshaped.shape)\n",
    "\n",
    "        print(\"-----------------------------\")\n",
    "\n",
    "        # Add to total predictions / columns\n",
    "        all_preds = np.r_[all_preds, test_pred_arr_reshaped]\n",
    "        city_col = np.r_[city_col, [str(i) + \"_\" + city_name for i in range(test_pred_arr.shape[0])]]\n",
    "    \n",
    "    # Convert predictions to csv file\n",
    "    print('\\nExporting Predictions ...\\n')\n",
    "    sub_df = pd.DataFrame(np.c_[city_col, all_preds], columns=[np.r_[[\"ID\"], [\"v\" + str(i) for i in range(120)]]])\n",
    "    submission_file_name = 'predictions_submission.csv'\n",
    "    sub_df.to_csv(submission_file_name, index=None)\n",
    "    print('---------------------------------------------------------------')\n",
    "    print('|  Test Predictions Exported to ./' + submission_file_name + \"  |\")\n",
    "    print('---------------------------------------------------------------')\n"
   ]
  },
  {
   "cell_type": "code",
   "execution_count": 85,
   "id": "fe95a25c",
   "metadata": {},
   "outputs": [
    {
     "name": "stdout",
     "output_type": "stream",
     "text": [
      "Calculating Test Trajectory Predictions ...\n",
      "\n",
      "-----------------------------\n",
      "Processing city austin\n",
      "(6325, 120)\n",
      "-----------------------------\n",
      "Processing city miami\n",
      "(7971, 120)\n",
      "-----------------------------\n",
      "Processing city pittsburgh\n",
      "(6361, 120)\n",
      "-----------------------------\n",
      "Processing city dearborn\n",
      "(3671, 120)\n",
      "-----------------------------\n",
      "Processing city washington-dc\n",
      "(3829, 120)\n",
      "-----------------------------\n",
      "Processing city palo-alto\n",
      "(1686, 120)\n",
      "-----------------------------\n",
      "\n",
      "Exporting Predictions ...\n",
      "\n",
      "---------------------------------------------------------------\n",
      "|  Test Predictions Exported to ./predictions_submission.csv  |\n",
      "---------------------------------------------------------------\n"
     ]
    }
   ],
   "source": [
    "predictions_to_csv()"
   ]
  },
  {
   "cell_type": "code",
   "execution_count": 79,
   "id": "87aad04f",
   "metadata": {},
   "outputs": [],
   "source": [
    "torch.save(pred, \"linear_model.pt\")"
   ]
  }
 ],
 "metadata": {
  "interpreter": {
   "hash": "e2d4884ef49a982a1eb5c43e5ae8a96487ae20917b7a89575cf03e86c2c63cb9"
  },
  "kernelspec": {
   "display_name": "Python 3.10.4 64-bit (windows store)",
   "language": "python",
   "name": "python3"
  },
  "language_info": {
   "codemirror_mode": {
    "name": "ipython",
    "version": 3
   },
   "file_extension": ".py",
   "mimetype": "text/x-python",
   "name": "python",
   "nbconvert_exporter": "python",
   "pygments_lexer": "ipython3",
   "version": "3.10.4"
  }
 },
 "nbformat": 4,
 "nbformat_minor": 5
}
