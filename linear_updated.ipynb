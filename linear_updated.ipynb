{
 "cells": [
  {
   "cell_type": "markdown",
   "metadata": {},
   "source": [
    "---\n",
    "# CSE 151B Project - Linear Model\n",
    "---"
   ]
  },
  {
   "cell_type": "markdown",
   "id": "718c38cf",
   "metadata": {},
   "source": [
    "## Install the package dependencies before running this notebook"
   ]
  },
  {
   "cell_type": "code",
   "execution_count": 2,
   "id": "16ac7530",
   "metadata": {},
   "outputs": [],
   "source": [
    "import torch\n",
    "from torch.utils.data import Dataset, DataLoader\n",
    "import os, os.path \n",
    "import time\n",
    "import math\n",
    "import string\n",
    "import numpy \n",
    "import pickle\n",
    "from glob import glob"
   ]
  },
  {
   "cell_type": "markdown",
   "id": "35242f5f",
   "metadata": {},
   "source": [
    "## Use GPU if Available"
   ]
  },
  {
   "cell_type": "code",
   "execution_count": 3,
   "id": "3b1eebb2",
   "metadata": {},
   "outputs": [
    {
     "data": {
      "text/plain": [
       "device(type='cuda')"
      ]
     },
     "execution_count": 3,
     "metadata": {},
     "output_type": "execute_result"
    }
   ],
   "source": [
    "device = None\n",
    "if torch.cuda.is_available():\n",
    "    device = torch.device('cuda')\n",
    "\n",
    "device"
   ]
  },
  {
   "cell_type": "markdown",
   "id": "0b472cf2",
   "metadata": {},
   "source": [
    "## Create a Torch.Dataset class for the training dataset"
   ]
  },
  {
   "cell_type": "code",
   "execution_count": 4,
   "id": "091abbb7",
   "metadata": {},
   "outputs": [],
   "source": [
    "from glob import glob\n",
    "import pickle\n",
    "import numpy as np\n",
    "\n",
    "\"\"\"\n",
    "    number of trajectories in each city\n",
    "    # austin --  train: 43041 test: 6325 \n",
    "    # miami -- train: 55029 test:7971\n",
    "    # pittsburgh -- train: 43544 test: 6361\n",
    "    # dearborn -- train: 24465 test: 3671\n",
    "    # washington-dc -- train: 25744 test: 3829\n",
    "    # palo-alto -- train:  11993 test:1686\n",
    "\n",
    "    trajectories sampled at 10HZ rate, input 5 seconds, output 6 seconds\n",
    "    \n",
    "\"\"\"\n",
    "\n",
    "ROOT_PATH = \"./\"\n",
    "\n",
    "cities = [\"austin\", \"miami\", \"pittsburgh\", \"dearborn\", \"washington-dc\", \"palo-alto\"]\n",
    "splits = [\"train\", \"test\"]\n",
    "\n",
    "city_dict = {}\n",
    "for i in range(len(cities)):\n",
    "    city_dict[str(cities[i])] = i\n",
    "\n",
    "# print(city_dict)\n",
    "\n",
    "\n",
    "def get_city_trajectories(city=\"palo-alto\", split=\"train\", normalized=False):\n",
    "\n",
    "    \n",
    "    outputs = None\n",
    "    \n",
    "    if split==\"train\":\n",
    "        f_in = ROOT_PATH + split + \"/\" + city + \"_inputs\"\n",
    "        inputs = pickle.load(open(f_in, \"rb\"))\n",
    "        n = len(inputs)\n",
    "        inputs = np.asarray(inputs)[:int(n * 0.8)]\n",
    "        \n",
    "        f_out = ROOT_PATH + split + \"/\" + city + \"_outputs\"\n",
    "        outputs = pickle.load(open(f_out, \"rb\"))\n",
    "        outputs = np.asarray(outputs)[:int(n * 0.8)]\n",
    "\n",
    "    elif split == \"train-all\":\n",
    "        f_in = ROOT_PATH + 'train' + \"/\" + city + \"_inputs\"\n",
    "        inputs = pickle.load(open(f_in, \"rb\"))\n",
    "        n = len(inputs)\n",
    "        inputs = np.asarray(inputs)\n",
    "        \n",
    "        f_out = ROOT_PATH + 'train' + \"/\" + city + \"_outputs\"\n",
    "        outputs = pickle.load(open(f_out, \"rb\"))\n",
    "        outputs = np.asarray(outputs)\n",
    "        \n",
    "    elif split == 'val':\n",
    "        f_in = ROOT_PATH + 'train' + \"/\" + city + \"_inputs\"\n",
    "        inputs = pickle.load(open(f_in, \"rb\"))\n",
    "        n = len(inputs)\n",
    "        inputs = np.asarray(inputs)[int(n * 0.8):]\n",
    "        \n",
    "        f_out = ROOT_PATH + 'train' + \"/\" + city + \"_outputs\"\n",
    "        outputs = pickle.load(open(f_out, \"rb\"))\n",
    "        outputs = np.asarray(outputs)[int(n * 0.8):]\n",
    "    \n",
    "    else:\n",
    "        f_in = ROOT_PATH + split + \"/\" + city + \"_inputs\"\n",
    "        inputs = pickle.load(open(f_in, \"rb\"))\n",
    "        n = len(inputs)\n",
    "        inputs = np.asarray(inputs)\n",
    "\n",
    "    inputs = enhance_features(inputs, city, one_hot_enabled=False)\n",
    "\n",
    "    return inputs, outputs\n",
    "\n",
    "def enhance_features(input_data, city_name, one_hot_enabled=False):\n",
    "    data_len = len(input_data)\n",
    "    if (one_hot_enabled):\n",
    "        new_input = np.zeros([data_len,50,6+len(cities)])\n",
    "    else:\n",
    "        new_input = np.zeros([data_len,50,6])\n",
    "    #print(new_input.shape)\n",
    "    for i in range(0, data_len):\n",
    "        # Calculate velocity\n",
    "        for j in range(50):\n",
    "            new_input[i][j][0] = input_data[i][j][0]\n",
    "            new_input[i][j][1] = input_data[i][j][1]\n",
    "            if j>0:\n",
    "                new_input[i][j][2] = new_input[i][j][0] - new_input[i][j-1][0] \n",
    "                new_input[i][j][3] = new_input[i][j][1] - new_input[i][j-1][1] \n",
    "        # Calculate acceleration\n",
    "        for k in range(50):\n",
    "            if k>0:\n",
    "                new_input[i][k][4] = (new_input[i][k][2] - new_input[i][k-1][2]) * 10\n",
    "                new_input[i][k][5] = (new_input[i][k][3] - new_input[i][k-1][3]) * 10\n",
    "                # set city one-hot encoding\n",
    "                if (one_hot_enabled):\n",
    "                    new_input[i][k][6 + city_dict[city_name]] = 1\n",
    "                # Apply weights to velocity values\n",
    "                new_input[i][k][2] = (new_input[i][k][2]) * 10\n",
    "                new_input[i][k][3] = (new_input[i][k][3]) * 10\n",
    "                # Apply weights to acceleration values\n",
    "                \n",
    "\n",
    "    # print(new_input[1][1])\n",
    "    # print(new_input.shape)\n",
    "    return new_input\n",
    "\n",
    "class ArgoverseDataset(Dataset):\n",
    "    \"\"\"Dataset class for Argoverse\"\"\"\n",
    "    def __init__(self, city: str, split:str, transform=None):\n",
    "        super(ArgoverseDataset, self).__init__()\n",
    "        self.transform = transform\n",
    "\n",
    "        self.inputs = []\n",
    "        self.outputs = []\n",
    "\n",
    "        # Include ALL cities in the Dataset\n",
    "        if (city == 'all'):\n",
    "            for city_name in cities:\n",
    "                city_inputs, city_outputs = get_city_trajectories(city=city_name, split=split, normalized=False)\n",
    "                for i in range(len(city_inputs)):\n",
    "                    self.inputs.append(city_inputs[i])\n",
    "                    self.outputs.append(city_outputs[i])\n",
    "        \n",
    "        # Only include the city specified\n",
    "        else:\n",
    "             self.inputs, self.outputs = get_city_trajectories(city, split=split, normalized=False)\n",
    "\n",
    "    def __len__(self):\n",
    "        return len(self.inputs)\n",
    "\n",
    "    def __getitem__(self, idx):\n",
    "\n",
    "        data = (self.inputs[idx], self.outputs[idx])\n",
    "            \n",
    "        if self.transform:\n",
    "            data = self.transform(data)\n",
    "\n",
    "        return data\n",
    "\n",
    "# intialize training dataset\n",
    "city = 'all' \n",
    "#split = 'train'\n",
    "split = 'train-all'\n",
    "train_dataset  = ArgoverseDataset(city = city, split = split)"
   ]
  },
  {
   "cell_type": "markdown",
   "id": "058453cc",
   "metadata": {},
   "source": [
    "## Create a DataLoader class for training"
   ]
  },
  {
   "cell_type": "code",
   "execution_count": 5,
   "id": "5c14f0e7",
   "metadata": {},
   "outputs": [],
   "source": [
    "batch_sz = 100  # batch size \n",
    "train_loader = DataLoader(train_dataset,batch_size=batch_sz)"
   ]
  },
  {
   "cell_type": "markdown",
   "id": "ef99b32b",
   "metadata": {},
   "source": [
    "## Define the Linear Model"
   ]
  },
  {
   "cell_type": "code",
   "execution_count": 6,
   "id": "ee5b7ae0",
   "metadata": {},
   "outputs": [],
   "source": [
    "from torch import nn, optim\n",
    "\n",
    "class Pred(nn.Module):\n",
    "\n",
    "    def __init__(self):\n",
    "        super().__init__()\n",
    "        \n",
    "        self.encoder = nn.Sequential(\n",
    "            nn.Linear(300, 512),\n",
    "            nn.ReLU(),\n",
    "            nn.Linear(512, 2048),\n",
    "            nn.ReLU(),\n",
    "            nn.Linear(2048, 512)\n",
    "        )\n",
    "        \n",
    "        self.decoder = nn.Sequential(\n",
    "            nn.Linear(512, 256),\n",
    "            nn.ReLU(),\n",
    "            nn.Linear(256, 128),\n",
    "            nn.ReLU(),\n",
    "            nn.Linear(128, 120)\n",
    "        )\n",
    "        \n",
    "    def forward(self, x):\n",
    "        #flattened_len = len(x[0]) * len(x[0][0])\n",
    "        x = x.reshape(-1, 300).float()\n",
    "        x = self.encoder(x)\n",
    "        x = self.decoder(x)\n",
    "        x = x.reshape(-1, 60, 2)\n",
    "        return x"
   ]
  },
  {
   "cell_type": "code",
   "execution_count": 13,
   "id": "adbc1d90",
   "metadata": {},
   "outputs": [],
   "source": [
    "# pred = Pred().to(device)\n",
    "pred = torch.load('./linear_model_updated_all.pt').to(device)\n",
    "opt = optim.Adam(pred.parameters(), lr=5e-7)"
   ]
  },
  {
   "cell_type": "markdown",
   "id": "83e09197",
   "metadata": {},
   "source": [
    "## Track the Time for Each Epoch"
   ]
  },
  {
   "cell_type": "code",
   "execution_count": 8,
   "id": "ce223bbe",
   "metadata": {},
   "outputs": [],
   "source": [
    "def timeSince(since):\n",
    "    now = time.time()\n",
    "    s = now - since\n",
    "    m = math.floor(s / 60)\n",
    "    s -= m * 60\n",
    "    s = int(s)\n",
    "    h = math.floor(m / 60)\n",
    "    m -= h * 60\n",
    "    return '%sh %sm %ss' % (str(h), str(m).rjust(2, '0'), str(s).rjust(2, '0'))"
   ]
  },
  {
   "cell_type": "markdown",
   "id": "d8d45989",
   "metadata": {},
   "source": [
    "## Train the Model"
   ]
  },
  {
   "cell_type": "code",
   "execution_count": null,
   "id": "e4725237",
   "metadata": {},
   "outputs": [],
   "source": [
    "num_epochs = 3000\n",
    "all_losses = []\n",
    "\n",
    "start = time.time()\n",
    "\n",
    "print('======================================================')\n",
    "print('|     TIME     | PROGRESS | EPOCH |      LOSS        |')\n",
    "print('======================================================')\n",
    "\n",
    "for epoch in range(num_epochs):\n",
    "    \n",
    "    total_loss = 0\n",
    "    for i_batch, sample_batch in enumerate(train_loader):\n",
    "        inp, out = sample_batch\n",
    "        inp = inp.to(device)\n",
    "        out = out.to(device)\n",
    "        preds = pred(inp)\n",
    "        loss = ((preds - out) ** 2).sum()\n",
    "        \n",
    "        opt.zero_grad()\n",
    "        loss.backward()\n",
    "        opt.step()\n",
    "        \n",
    "        total_loss += loss.item()\n",
    "\n",
    "    epoch_loss = total_loss / len(train_dataset)\n",
    "    train_progress = int(epoch / num_epochs * 100)\n",
    "        \n",
    "    # print('epoch {} loss: {}'.format(epoch, total_loss / len(train_dataset)))\n",
    "    print('   %s  |   %s%%   |  %s  |  %.4f  ' % (timeSince(start), str(train_progress).rjust(3, '0'), str(epoch).rjust(3,'0'), epoch_loss))\n",
    "    # print('-----------------------------------------------------')\n",
    "    all_losses.append(epoch_loss)"
   ]
  },
  {
   "cell_type": "markdown",
   "id": "7797a524",
   "metadata": {},
   "source": [
    "## Plot the Loss Over Time"
   ]
  },
  {
   "cell_type": "code",
   "execution_count": 12,
   "id": "fa843faf",
   "metadata": {},
   "outputs": [
    {
     "data": {
      "image/png": "[encoded data removed]",
      "text/plain": [
       "<Figure size 432x288 with 1 Axes>"
      ]
     },
     "metadata": {
      "needs_background": "light"
     },
     "output_type": "display_data"
    }
   ],
   "source": [
    "import matplotlib.pyplot as plt\n",
    "\n",
    "plt.figure()\n",
    "plt.title('Loss Over Time')\n",
    "plt.xlabel('Epoch')\n",
    "plt.ylabel('Loss')\n",
    "plt.plot(all_losses)\n",
    "plt.show()"
   ]
  },
  {
   "cell_type": "markdown",
   "id": "df7d6042",
   "metadata": {},
   "source": [
    "## Determine Validation Loss"
   ]
  },
  {
   "cell_type": "code",
   "execution_count": null,
   "id": "da57dc99",
   "metadata": {},
   "outputs": [],
   "source": [
    "val_dataset = ArgoverseDataset(city = 'all', split = 'val')\n",
    "val_loader = DataLoader(val_dataset,batch_size=batch_sz)\n",
    "\n",
    "# pred = torch.load(\"./linear_model.pt\")\n",
    "\n",
    "val_loss = 0\n",
    "for i_batch, sample_batch in enumerate(val_loader):\n",
    "    inp, out = sample_batch\n",
    "    inp = inp.to(device)\n",
    "    out = out.to(device)\n",
    "    preds = pred(inp)\n",
    "    loss = ((preds - out) ** 2).sum()\n",
    "\n",
    "    val_loss += loss.item()\n",
    "print('Validation Loss: {}'.format(val_loss / len(val_dataset)))"
   ]
  },
  {
   "cell_type": "markdown",
   "id": "6f80b5e4",
   "metadata": {},
   "source": [
    "## Visualize Sample Predictions on Validation Dataset "
   ]
  },
  {
   "cell_type": "code",
   "execution_count": 19,
   "id": "c6507c9a",
   "metadata": {},
   "outputs": [
    {
     "data": {
      "image/png": "[encoded data removed]",
      "text/plain": [
       "<Figure size 1080x216 with 3 Axes>"
      ]
     },
     "metadata": {},
     "output_type": "display_data"
    },
    {
     "data": {
      "image/png": "[encoded data removed]",
      "text/plain": [
       "<Figure size 1080x216 with 3 Axes>"
      ]
     },
     "metadata": {},
     "output_type": "display_data"
    },
    {
     "data": {
      "image/png": "[encoded data removed]",
      "text/plain": [
       "<Figure size 1080x216 with 3 Axes>"
      ]
     },
     "metadata": {},
     "output_type": "display_data"
    }
   ],
   "source": [
    "import matplotlib.pyplot as plt\n",
    "import random\n",
    "\n",
    "num_samples = 3\n",
    "\n",
    "val_vis_dataset = ArgoverseDataset(city = 'all', split = 'val')\n",
    "val_vis_loader = DataLoader(val_vis_dataset,batch_size=3)\n",
    "\n",
    "def show_sample_batch(sample_batch):\n",
    "    \"\"\"visualize the trajectory for a batch of samples\"\"\"\n",
    "    inp, out = sample_batch\n",
    "    batch_sz = inp.size(0)\n",
    "    inp = inp.to(device)\n",
    "    agent_sz = inp.size(1)\n",
    "    \n",
    "    fig, axs = plt.subplots(1,batch_sz, figsize=(15, 3), facecolor='w', edgecolor='k')\n",
    "    fig.subplots_adjust(hspace = .5, wspace=.001)\n",
    "    axs = axs.ravel()   \n",
    "    for i in range(batch_sz):\n",
    "        axs[i].xaxis.set_ticks([])\n",
    "        axs[i].yaxis.set_ticks([])\n",
    "        inp = inp.to(device)\n",
    "        pred_traj = pred(inp)\n",
    "        pred_traj = pred_traj.cpu().detach().numpy()\n",
    "        inp = inp.cpu()\n",
    "        \n",
    "        # first two feature dimensions are (x,y) positions\n",
    "        axs[i].scatter(inp[i,:,0], inp[i,:,1], color='black')\n",
    "        axs[i].scatter(out[i,:,0], out[i,:,1], color='teal')\n",
    "        axs[i].scatter(pred_traj[i,:,0], pred_traj[i,:,1], color='red')\n",
    "\n",
    "        \n",
    "for i_batch, sample_batch in enumerate(val_vis_loader):\n",
    "    inp, out = sample_batch\n",
    "    # print(inp.shape, out.shape)\n",
    "    show_sample_batch(sample_batch)\n",
    "\n",
    "    if (i_batch == (num_samples-1)):\n",
    "      break"
   ]
  },
  {
   "cell_type": "markdown",
   "id": "02153e56",
   "metadata": {},
   "source": [
    "## Calculate Test Predictions and Export to CSV"
   ]
  },
  {
   "cell_type": "code",
   "execution_count": null,
   "id": "14008adf",
   "metadata": {},
   "outputs": [],
   "source": [
    "import pandas as pd\n",
    "\n",
    "def predictions_to_csv():\n",
    "    num_pred_steps = 60\n",
    "    all_preds = np.zeros(shape=(0, num_pred_steps * 2))\n",
    "    city_col = np.array([])\n",
    "\n",
    "    print(\"Calculating Test Trajectory Predictions ...\\n\")\n",
    "\n",
    "    print(\"-----------------------------\")\n",
    "\n",
    "    # Test predictions for ALL cities\n",
    "    for city_name in cities:\n",
    "\n",
    "        print(\"Processing city\", city_name)\n",
    "\n",
    "        # Get Training input values for this city\n",
    "        test_traj_in, _ = get_city_trajectories(city=city_name, split=\"test\")\n",
    "        #print(test_traj_in.shape)\n",
    "\n",
    "        test_pred_arr = []\n",
    "        # Iterate through all test inputs for this city\n",
    "        for x in range(len(test_traj_in)):\n",
    "            # Get the predicted trajectory from the model\n",
    "            traj_in_tensor = torch.tensor(test_traj_in[x], device=device)\n",
    "            traj = pred(traj_in_tensor)[0]\n",
    "            # Add the prediction to the test prediction array\n",
    "            traj_arr = traj.cpu().detach().numpy()\n",
    "            test_pred_arr.append(traj_arr)\n",
    "        test_pred_arr = numpy.array(test_pred_arr)\n",
    "        # print(test_pred_arr.shape)\n",
    "    \n",
    "        # Reshape the predictions to the submission format size (120)\n",
    "        test_pred_arr_reshaped = np.reshape(test_pred_arr, newshape=(test_traj_in.shape[0], num_pred_steps * 2))\n",
    "        print(test_pred_arr_reshaped.shape)\n",
    "\n",
    "        print(\"-----------------------------\")\n",
    "\n",
    "        # Add to total predictions / columns\n",
    "        all_preds = np.r_[all_preds, test_pred_arr_reshaped]\n",
    "        city_col = np.r_[city_col, [str(i) + \"_\" + city_name for i in range(test_pred_arr.shape[0])]]\n",
    "    \n",
    "    # Convert predictions to csv file\n",
    "    print('\\nExporting Predictions ...\\n')\n",
    "    sub_df = pd.DataFrame(np.c_[city_col, all_preds], columns=[np.r_[[\"ID\"], [\"v\" + str(i) for i in range(120)]]])\n",
    "    submission_file_name = 'predictions_submission.csv'\n",
    "    sub_df.to_csv(submission_file_name, index=None)\n",
    "    print('---------------------------------------------------------------')\n",
    "    print('|  Test Predictions Exported to ./' + submission_file_name + \"  |\")\n",
    "    print('---------------------------------------------------------------')\n"
   ]
  },
  {
   "cell_type": "code",
   "execution_count": null,
   "id": "fe95a25c",
   "metadata": {},
   "outputs": [],
   "source": [
    "predictions_to_csv()"
   ]
  },
  {
   "cell_type": "markdown",
   "id": "d23464dd",
   "metadata": {},
   "source": [
    "## Save the Model"
   ]
  },
  {
   "cell_type": "code",
   "execution_count": null,
   "id": "87aad04f",
   "metadata": {},
   "outputs": [],
   "source": [
    "# torch.save(pred, \"linear_model_updated_all.pt\")"
   ]
  },
  {
   "cell_type": "code",
   "execution_count": null,
   "id": "32efce93",
   "metadata": {},
   "outputs": [],
   "source": [
    "# opt = optim.Adam(pred.parameters(), lr=3e-7)"
   ]
  }
 ],
 "metadata": {
  "interpreter": {
   "hash": "e2d4884ef49a982a1eb5c43e5ae8a96487ae20917b7a89575cf03e86c2c63cb9"
  },
  "kernelspec": {
   "display_name": "Python 3.10.4 64-bit (windows store)",
   "language": "python",
   "name": "python3"
  },
  "language_info": {
   "codemirror_mode": {
    "name": "ipython",
    "version": 3
   },
   "file_extension": ".py",
   "mimetype": "text/x-python",
   "name": "python",
   "nbconvert_exporter": "python",
   "pygments_lexer": "ipython3",
   "version": "3.10.4"
  }
 },
 "nbformat": 4,
 "nbformat_minor": 5
}
