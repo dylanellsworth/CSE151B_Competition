{
 "cells": [
  {
   "cell_type": "markdown",
   "id": "718c38cf",
   "metadata": {},
   "source": [
    "## Install the package dependencies before running this notebook"
   ]
  },
  {
   "cell_type": "code",
   "execution_count": 1,
   "id": "16ac7530",
   "metadata": {},
   "outputs": [
    {
     "data": {
      "text/plain": [
       "'\\n    number of trajectories in each city\\n    # austin --  train: 43041 test: 6325 \\n    # miami -- train: 55029 test:7971\\n    # pittsburgh -- train: 43544 test: 6361\\n    # dearborn -- train: 24465 test: 3671\\n    # washington-dc -- train: 25744 test: 3829\\n    # palo-alto -- train:  11993 test:1686\\n\\n    trajectories sampled at 10HZ rate, input 5 seconds, output 6 seconds\\n    \\n'"
      ]
     },
     "execution_count": 1,
     "metadata": {},
     "output_type": "execute_result"
    }
   ],
   "source": [
    "import torch\n",
    "from torch.utils.data import Dataset, DataLoader\n",
    "import os, os.path \n",
    "import numpy \n",
    "import pickle\n",
    "from glob import glob\n",
    "\n",
    "\"\"\"\n",
    "    number of trajectories in each city\n",
    "    # austin --  train: 43041 test: 6325 \n",
    "    # miami -- train: 55029 test:7971\n",
    "    # pittsburgh -- train: 43544 test: 6361\n",
    "    # dearborn -- train: 24465 test: 3671\n",
    "    # washington-dc -- train: 25744 test: 3829\n",
    "    # palo-alto -- train:  11993 test:1686\n",
    "\n",
    "    trajectories sampled at 10HZ rate, input 5 seconds, output 6 seconds\n",
    "    \n",
    "\"\"\""
   ]
  },
  {
   "cell_type": "markdown",
   "id": "0b472cf2",
   "metadata": {},
   "source": [
    "## Create a Torch.Dataset class for the training dataset"
   ]
  },
  {
   "cell_type": "code",
   "execution_count": 2,
   "id": "091abbb7",
   "metadata": {},
   "outputs": [],
   "source": [
    "from glob import glob\n",
    "import pickle\n",
    "import numpy as np\n",
    "\n",
    "ROOT_PATH = \"./\"\n",
    "\n",
    "cities = [\"austin\", \"miami\", \"pittsburgh\", \"dearborn\", \"washington-dc\", \"palo-alto\"]\n",
    "splits = [\"train\", \"test\"]\n",
    "\n",
    "def get_city_trajectories(city=\"palo-alto\", split=\"train\", normalized=False):\n",
    "\n",
    "    \n",
    "    outputs = None\n",
    "    \n",
    "    if split==\"train\":\n",
    "        f_in = ROOT_PATH + split + \"/\" + city + \"_inputs\"\n",
    "        inputs = pickle.load(open(f_in, \"rb\"))\n",
    "        n = len(inputs)\n",
    "        inputs = np.asarray(inputs)[:int(n * 0.8)]\n",
    "        \n",
    "        f_out = ROOT_PATH + split + \"/\" + city + \"_outputs\"\n",
    "        outputs = pickle.load(open(f_out, \"rb\"))\n",
    "        outputs = np.asarray(outputs)[:int(n * 0.8)]\n",
    "        \n",
    "    elif split == 'val':\n",
    "        f_in = ROOT_PATH + 'train' + \"/\" + city + \"_inputs\"\n",
    "        inputs = pickle.load(open(f_in, \"rb\"))\n",
    "        n = len(inputs)\n",
    "        inputs = np.asarray(inputs)[int(n * 0.8):]\n",
    "        \n",
    "        f_out = ROOT_PATH + 'train' + \"/\" + city + \"_outputs\"\n",
    "        outputs = pickle.load(open(f_out, \"rb\"))\n",
    "        outputs = np.asarray(outputs)[int(n * 0.8):]\n",
    "    \n",
    "    else:\n",
    "        f_in = ROOT_PATH + split + \"/\" + city + \"_inputs\"\n",
    "        inputs = pickle.load(open(f_in, \"rb\"))\n",
    "        n = len(inputs)\n",
    "        inputs = np.asarray(inputs)\n",
    "\n",
    "    return inputs, outputs\n",
    "\n",
    "class ArgoverseDataset(Dataset):\n",
    "    \"\"\"Dataset class for Argoverse\"\"\"\n",
    "    def __init__(self, city: str, split:str, transform=None):\n",
    "        super(ArgoverseDataset, self).__init__()\n",
    "        self.transform = transform\n",
    "\n",
    "        self.inputs, self.outputs = get_city_trajectories(city=city, split=split, normalized=False)\n",
    "\n",
    "    def __len__(self):\n",
    "        return len(self.inputs)\n",
    "\n",
    "    def __getitem__(self, idx):\n",
    "\n",
    "        data = (self.inputs[idx], self.outputs[idx])\n",
    "            \n",
    "        if self.transform:\n",
    "            data = self.transform(data)\n",
    "\n",
    "        return data\n",
    "\n",
    "# intialize a dataset\n",
    "city = 'palo-alto' \n",
    "split = 'train'\n",
    "train_dataset  = ArgoverseDataset(city = city, split = split)"
   ]
  },
  {
   "cell_type": "code",
   "execution_count": 3,
   "id": "5a174510",
   "metadata": {},
   "outputs": [],
   "source": [
    "val_dataset = ArgoverseDataset(city = city, split = 'val')"
   ]
  },
  {
   "cell_type": "code",
   "execution_count": 4,
   "id": "7a44d7ea",
   "metadata": {},
   "outputs": [
    {
     "data": {
      "text/plain": [
       "2399"
      ]
     },
     "execution_count": 4,
     "metadata": {},
     "output_type": "execute_result"
    }
   ],
   "source": [
    "len(val_dataset)"
   ]
  },
  {
   "cell_type": "markdown",
   "id": "058453cc",
   "metadata": {},
   "source": [
    "## Create a DataLoader class for training"
   ]
  },
  {
   "cell_type": "code",
   "execution_count": 5,
   "id": "5c14f0e7",
   "metadata": {},
   "outputs": [],
   "source": [
    "batch_sz = 4  # batch size \n",
    "train_loader = DataLoader(train_dataset,batch_size=batch_sz)"
   ]
  },
  {
   "cell_type": "code",
   "execution_count": 6,
   "id": "ee5b7ae0",
   "metadata": {},
   "outputs": [],
   "source": [
    "from torch import nn, optim\n",
    "\n",
    "class Pred(nn.Module):\n",
    "\n",
    "    def __init__(self):\n",
    "        super().__init__()\n",
    "        \n",
    "        self.encoder = nn.Sequential(\n",
    "            nn.Linear(100, 64),\n",
    "            nn.ReLU(),\n",
    "            nn.Linear(64, 32),\n",
    "            nn.ReLU(),\n",
    "            nn.Linear(32, 32)\n",
    "        )\n",
    "        \n",
    "        self.decoder = nn.Sequential(\n",
    "            nn.Linear(32, 64),\n",
    "            nn.ReLU(),\n",
    "            nn.Linear(64, 120),\n",
    "            nn.ReLU(),\n",
    "            nn.Linear(120, 120)\n",
    "        )\n",
    "        \n",
    "    def forward(self, x):\n",
    "        x = x.reshape(-1, 100).float()\n",
    "        x = self.encoder(x)\n",
    "        x = self.decoder(x)\n",
    "        x = x.reshape(-1, 60, 2)\n",
    "        return x"
   ]
  },
  {
   "cell_type": "code",
   "execution_count": 7,
   "id": "adbc1d90",
   "metadata": {},
   "outputs": [],
   "source": [
    "pred = Pred()\n",
    "opt = optim.Adam(pred.parameters(), lr=1e-3)"
   ]
  },
  {
   "cell_type": "code",
   "execution_count": 9,
   "id": "e4725237",
   "metadata": {},
   "outputs": [
    {
     "name": "stdout",
     "output_type": "stream",
     "text": [
      "epoch 0 loss: 380084.35665384395\n",
      "epoch 1 loss: 362147.8741190479\n",
      "epoch 2 loss: 330976.7309799203\n",
      "epoch 3 loss: 318837.74728825135\n",
      "epoch 4 loss: 293762.63018563384\n",
      "epoch 5 loss: 276665.68182098796\n",
      "epoch 6 loss: 279099.96090108465\n",
      "epoch 7 loss: 264577.7583283546\n",
      "epoch 8 loss: 253173.51524546143\n",
      "epoch 9 loss: 236803.1520662675\n",
      "epoch 10 loss: 226774.93254397958\n",
      "epoch 11 loss: 223561.01672311084\n",
      "epoch 12 loss: 230691.70616409404\n",
      "epoch 13 loss: 216628.63605745908\n",
      "epoch 14 loss: 194775.48904852237\n",
      "epoch 15 loss: 215619.48243407963\n",
      "epoch 16 loss: 187808.10729687137\n",
      "epoch 17 loss: 197587.01937167978\n",
      "epoch 18 loss: 196530.53910641297\n",
      "epoch 19 loss: 171802.09166252127\n",
      "epoch 20 loss: 189301.11568747292\n",
      "epoch 21 loss: 177610.2464888276\n",
      "epoch 22 loss: 179871.48778562128\n",
      "epoch 23 loss: 176314.51634515094\n",
      "epoch 24 loss: 164947.6889748319\n",
      "epoch 25 loss: 166403.958102337\n",
      "epoch 26 loss: 155779.4059226927\n",
      "epoch 27 loss: 155827.97740115414\n",
      "epoch 28 loss: 140066.44174000045\n",
      "epoch 29 loss: 154509.16151156786\n",
      "epoch 30 loss: 143850.51535744013\n",
      "epoch 31 loss: 135664.82645048204\n",
      "epoch 32 loss: 141012.7959244113\n",
      "epoch 33 loss: 141727.43852815658\n",
      "epoch 34 loss: 139012.3214932681\n",
      "epoch 35 loss: 118570.63721475065\n",
      "epoch 36 loss: 127957.91884781844\n",
      "epoch 37 loss: 114037.59914686502\n",
      "epoch 38 loss: 134489.29974454173\n",
      "epoch 39 loss: 125687.28782123978\n",
      "epoch 40 loss: 124069.60206545457\n",
      "epoch 41 loss: 126108.65489584504\n",
      "epoch 42 loss: 113067.18291380852\n",
      "epoch 43 loss: 128440.56282092458\n",
      "epoch 44 loss: 125158.28024942949\n",
      "epoch 45 loss: 114454.09082932243\n",
      "epoch 46 loss: 112804.88901226236\n",
      "epoch 47 loss: 118541.95304559807\n",
      "epoch 48 loss: 107750.9487460078\n",
      "epoch 49 loss: 114271.70278008567\n",
      "epoch 50 loss: 123038.69403435376\n",
      "epoch 51 loss: 117250.52086607419\n",
      "epoch 52 loss: 105938.94365398686\n",
      "epoch 53 loss: 110784.76237898006\n",
      "epoch 54 loss: 115471.20931272816\n",
      "epoch 55 loss: 108429.54271081812\n",
      "epoch 56 loss: 114369.92910941096\n",
      "epoch 57 loss: 104032.74330709428\n",
      "epoch 58 loss: 111283.25878302833\n",
      "epoch 59 loss: 103997.79008716006\n",
      "epoch 60 loss: 102001.42076180951\n",
      "epoch 61 loss: 109752.00630407852\n",
      "epoch 62 loss: 102110.62680524147\n",
      "epoch 63 loss: 98642.65222563336\n",
      "epoch 64 loss: 97114.66665253424\n",
      "epoch 65 loss: 100495.80817911674\n",
      "epoch 66 loss: 91500.2332900948\n",
      "epoch 67 loss: 100959.94853781137\n",
      "epoch 68 loss: 91206.19699130657\n",
      "epoch 69 loss: 96396.7437344657\n",
      "epoch 70 loss: 92862.23786435186\n",
      "epoch 71 loss: 94671.792931303\n",
      "epoch 72 loss: 92446.96899171252\n",
      "epoch 73 loss: 94881.58052124757\n",
      "epoch 74 loss: 97348.59778232493\n",
      "epoch 75 loss: 93018.91194624761\n",
      "epoch 76 loss: 90383.09992168893\n",
      "epoch 77 loss: 92604.44402289725\n",
      "epoch 78 loss: 87709.8041750746\n",
      "epoch 79 loss: 98091.90529539569\n",
      "epoch 80 loss: 91388.48057201377\n",
      "epoch 81 loss: 87374.43635951773\n",
      "epoch 82 loss: 89462.06662600327\n",
      "epoch 83 loss: 91219.92584951408\n",
      "epoch 84 loss: 88844.43895936916\n",
      "epoch 85 loss: 86856.22567044864\n",
      "epoch 86 loss: 90448.55241209074\n",
      "epoch 87 loss: 84477.58455089289\n",
      "epoch 88 loss: 90478.0537857769\n",
      "epoch 89 loss: 83944.45499220057\n",
      "epoch 90 loss: 87867.321554297\n",
      "epoch 91 loss: 85053.20909264269\n",
      "epoch 92 loss: 81407.61647540302\n",
      "epoch 93 loss: 86684.99356778695\n",
      "epoch 94 loss: 81807.65689394873\n",
      "epoch 95 loss: 83840.42052180285\n",
      "epoch 96 loss: 88390.67696551859\n",
      "epoch 97 loss: 81193.1066004609\n",
      "epoch 98 loss: 77774.90750181832\n",
      "epoch 99 loss: 87289.60808291387\n"
     ]
    }
   ],
   "source": [
    "for epoch in range(100):\n",
    "    \n",
    "    total_loss = 0\n",
    "    for i_batch, sample_batch in enumerate(train_loader):\n",
    "        inp, out = sample_batch\n",
    "        preds = pred(inp)\n",
    "        loss = ((preds - out) ** 2).sum()\n",
    "        \n",
    "        opt.zero_grad()\n",
    "        loss.backward()\n",
    "        opt.step()\n",
    "        \n",
    "        total_loss += loss.item()\n",
    "        \n",
    "    print('epoch {} loss: {}'.format(epoch, total_loss / len(train_dataset)))"
   ]
  },
  {
   "cell_type": "code",
   "execution_count": 30,
   "id": "da57dc99",
   "metadata": {},
   "outputs": [
    {
     "name": "stdout",
     "output_type": "stream",
     "text": [
      "loss: 48721.0293654672\n"
     ]
    }
   ],
   "source": [
    "val_loader = DataLoader(val_dataset,batch_size=batch_sz)\n",
    "\n",
    "val_loss = 0\n",
    "for i_batch, sample_batch in enumerate(val_loader):\n",
    "    inp, out = sample_batch\n",
    "    preds = pred(inp)\n",
    "    loss = ((preds - out) ** 2).sum()\n",
    "\n",
    "    val_loss += loss.item()\n",
    "print('loss: {}'.format(val_loss / len(val_dataset)))"
   ]
  },
  {
   "cell_type": "markdown",
   "id": "6f80b5e4",
   "metadata": {},
   "source": [
    "## Sample a batch of data and visualize "
   ]
  },
  {
   "cell_type": "code",
   "execution_count": 32,
   "id": "c6507c9a",
   "metadata": {},
   "outputs": [
    {
     "name": "stdout",
     "output_type": "stream",
     "text": [
      "torch.Size([4, 50, 2]) torch.Size([4, 60, 2])\n"
     ]
    },
    {
     "data": {
      "image/png": "[encoded data removed]",
      "text/plain": [
       "<Figure size 1080x216 with 4 Axes>"
      ]
     },
     "metadata": {},
     "output_type": "display_data"
    }
   ],
   "source": [
    "import matplotlib.pyplot as plt\n",
    "import random\n",
    "\n",
    "\n",
    "def show_sample_batch(sample_batch):\n",
    "    \"\"\"visualize the trajectory for a batch of samples\"\"\"\n",
    "    inp, out = sample_batch\n",
    "    batch_sz = inp.size(0)\n",
    "    agent_sz = inp.size(1)\n",
    "    \n",
    "    fig, axs = plt.subplots(1,batch_sz, figsize=(15, 3), facecolor='w', edgecolor='k')\n",
    "    fig.subplots_adjust(hspace = .5, wspace=.001)\n",
    "    axs = axs.ravel()   \n",
    "    for i in range(batch_sz):\n",
    "        axs[i].xaxis.set_ticks([])\n",
    "        axs[i].yaxis.set_ticks([])\n",
    "        \n",
    "        # first two feature dimensions are (x,y) positions\n",
    "        axs[i].scatter(inp[i,:,0], inp[i,:,1])\n",
    "        axs[i].scatter(out[i,:,0], out[i,:,1])\n",
    "\n",
    "        \n",
    "for i_batch, sample_batch in enumerate(train_loader):\n",
    "    inp, out = sample_batch\n",
    "    print(inp.shape, out.shape)\n",
    "    \n",
    "    \"\"\"\n",
    "    TODO:\n",
    "      implement your Deep learning model\n",
    "      implement training routine\n",
    "    \"\"\"\n",
    "    show_sample_batch(sample_batch)\n",
    "    break"
   ]
  },
  {
   "cell_type": "code",
   "execution_count": null,
   "id": "00333419",
   "metadata": {},
   "outputs": [],
   "source": []
  }
 ],
 "metadata": {
  "interpreter": {
   "hash": "e2d4884ef49a982a1eb5c43e5ae8a96487ae20917b7a89575cf03e86c2c63cb9"
  },
  "kernelspec": {
   "display_name": "Python 3.10.4 64-bit (windows store)",
   "language": "python",
   "name": "python3"
  },
  "language_info": {
   "codemirror_mode": {
    "name": "ipython",
    "version": 3
   },
   "file_extension": ".py",
   "mimetype": "text/x-python",
   "name": "python",
   "nbconvert_exporter": "python",
   "pygments_lexer": "ipython3",
   "version": "3.10.4"
  }
 },
 "nbformat": 4,
 "nbformat_minor": 5
}
